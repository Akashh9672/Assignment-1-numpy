{
 "cells": [
  {
   "cell_type": "code",
   "execution_count": 1,
   "id": "5bd31fc6",
   "metadata": {},
   "outputs": [
    {
     "name": "stdout",
     "output_type": "stream",
     "text": [
      "your array: [1, 2, 0, 0, 4, 0]\n",
      "indices of non zero elements: (array([0, 1, 4], dtype=int64),)\n"
     ]
    }
   ],
   "source": [
    "import numpy as np\n",
    "arr=[1,2,0,0,4,0]\n",
    "print(\"your array:\",arr)\n",
    "indices=np.nonzero(arr)\n",
    "print(\"indices of non zero elements:\",indices)"
   ]
  },
  {
   "cell_type": "code",
   "execution_count": null,
   "id": "473c8b37",
   "metadata": {},
   "outputs": [],
   "source": []
  }
 ],
 "metadata": {
  "kernelspec": {
   "display_name": "Python 3 (ipykernel)",
   "language": "python",
   "name": "python3"
  },
  "language_info": {
   "codemirror_mode": {
    "name": "ipython",
    "version": 3
   },
   "file_extension": ".py",
   "mimetype": "text/x-python",
   "name": "python",
   "nbconvert_exporter": "python",
   "pygments_lexer": "ipython3",
   "version": "3.9.12"
  }
 },
 "nbformat": 4,
 "nbformat_minor": 5
}
